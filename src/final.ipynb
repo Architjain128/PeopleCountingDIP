{
 "cells": [
  {
   "cell_type": "code",
   "execution_count": 5,
   "metadata": {},
   "outputs": [],
   "source": [
    "import os\n",
    "import cv2,collections\n",
    "import sys\n",
    "import math\n",
    "import random\n",
    "import numpy as np\n",
    "import plotly.express as px\n",
    "from queue import Queue\n",
    "import matplotlib.pyplot as plt\n",
    "sys.setrecursionlimit(1000000)"
   ]
  },
  {
   "cell_type": "code",
   "execution_count": 4,
   "metadata": {},
   "outputs": [],
   "source": [
    "video_name=\"2016_04_07_07_09_21FrontColor_I\"\n",
    "directory=\"../images/\"+video_name\n",
    "if not os.path.exists(directory):\n",
    "    os.makedirs(directory)\n",
    "directoryf=\"../images/\"+video_name+\"/frames\"\n",
    "if not os.path.exists(directoryf):\n",
    "    os.makedirs(directoryf)\n",
    "directorym=\"../images/\"+video_name+\"/motion_vec\"\n",
    "if not os.path.exists(directorym):\n",
    "    os.makedirs(directorym)\n",
    "directoryj=\"../images/\"+video_name+\"/joined\"\n",
    "if not os.path.exists(directoryj):\n",
    "    os.makedirs(directoryj)\n",
    "directoryb=\"../images/\"+video_name+\"/joined_bl\"\n",
    "if not os.path.exists(directoryb):\n",
    "    os.makedirs(directoryb)"
   ]
  },
  {
   "cell_type": "code",
   "execution_count": null,
   "metadata": {},
   "outputs": [],
   "source": [
    "vidObj = cv2.VideoCapture(\"../videos/IN/{}.avi\".format(video_name))\n",
    "count = 0\n",
    "success = 1\n",
    "sec = 0\n",
    "while success:\n",
    "    vidObj.set(cv2.CAP_PROP_POS_MSEC,sec*1000)\n",
    "    success, image = vidObj.read()\n",
    "    if success == 1:\n",
    "        cv2.imwrite(directoryf+\"/frame%d.jpg\" % count, image)\n",
    "    count += 1\n",
    "    sec += 0.1"
   ]
  },
  {
   "cell_type": "code",
   "execution_count": null,
   "metadata": {},
   "outputs": [],
   "source": []
  }
 ],
 "metadata": {
  "interpreter": {
   "hash": "916dbcbb3f70747c44a77c7bcd40155683ae19c65e1c03b4aa3499c5328201f1"
  },
  "kernelspec": {
   "display_name": "Python 3.8.10 64-bit",
   "language": "python",
   "name": "python3"
  },
  "language_info": {
   "codemirror_mode": {
    "name": "ipython",
    "version": 3
   },
   "file_extension": ".py",
   "mimetype": "text/x-python",
   "name": "python",
   "nbconvert_exporter": "python",
   "pygments_lexer": "ipython3",
   "version": "3.8.10"
  },
  "orig_nbformat": 4
 },
 "nbformat": 4,
 "nbformat_minor": 2
}
