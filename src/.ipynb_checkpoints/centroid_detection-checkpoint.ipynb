{
 "cells": [
  {
   "cell_type": "code",
   "execution_count": 4,
   "id": "cca44cd7",
   "metadata": {},
   "outputs": [
    {
     "ename": "ModuleNotFoundError",
     "evalue": "No module named 'seaborn'",
     "output_type": "error",
     "traceback": [
      "\u001b[0;31m---------------------------------------------------------------------------\u001b[0m",
      "\u001b[0;31mModuleNotFoundError\u001b[0m                       Traceback (most recent call last)",
      "\u001b[0;32m<ipython-input-4-4da68c80d1de>\u001b[0m in \u001b[0;36m<module>\u001b[0;34m\u001b[0m\n\u001b[1;32m      3\u001b[0m \u001b[0;32mimport\u001b[0m \u001b[0mmatplotlib\u001b[0m\u001b[0;34m.\u001b[0m\u001b[0mpyplot\u001b[0m \u001b[0;32mas\u001b[0m \u001b[0mplt\u001b[0m\u001b[0;34m\u001b[0m\u001b[0;34m\u001b[0m\u001b[0m\n\u001b[1;32m      4\u001b[0m \u001b[0;32mimport\u001b[0m \u001b[0mmath\u001b[0m\u001b[0;34m\u001b[0m\u001b[0;34m\u001b[0m\u001b[0m\n\u001b[0;32m----> 5\u001b[0;31m \u001b[0;32mimport\u001b[0m \u001b[0mseaborn\u001b[0m \u001b[0;32mas\u001b[0m \u001b[0msns\u001b[0m\u001b[0;34m\u001b[0m\u001b[0;34m\u001b[0m\u001b[0m\n\u001b[0m\u001b[1;32m      6\u001b[0m \u001b[0;32mfrom\u001b[0m \u001b[0mqueue\u001b[0m \u001b[0;32mimport\u001b[0m \u001b[0mQueue\u001b[0m\u001b[0;34m\u001b[0m\u001b[0;34m\u001b[0m\u001b[0m\n",
      "\u001b[0;31mModuleNotFoundError\u001b[0m: No module named 'seaborn'"
     ]
    }
   ],
   "source": [
    "import cv2, collections\n",
    "import numpy as np\n",
    "import matplotlib.pyplot as plt\n",
    "import math\n",
    "import seaborn as sns\n",
    "from queue import Queue"
   ]
  },
  {
   "cell_type": "code",
   "execution_count": null,
   "id": "b022bb88",
   "metadata": {},
   "outputs": [],
   "source": [
    "def centroid_bfs(img,r,c,col,vis):\n",
    "    h,w = img.shape\n",
    "    q = Queue()\n",
    "    q.put((r,c))\n",
    "    vis[r,c] = 1\n",
    "    cent_x = 0.0\n",
    "    cent_y = 0.0\n",
    "    while not q.empty():\n",
    "        r, c = q.get()\n",
    "        cent_x += r\n",
    "        cent_y += c\n",
    "        if r-1>=0 and vis[r-1,c] == 0 and img[r-1,c]!=0:\n",
    "            vis[r-1,c] = col\n",
    "            q.put((r-1,c))\n",
    "        if r+1<h and vis[r+1,c] == 0 and img[r+1,c]!=0:\n",
    "            vis[r+1,c] = 1\n",
    "            q.put((r+1,c))\n",
    "        if c-1>=0 and vis[r,c-1] == 0 and img[r,c-1]!=0:\n",
    "            vis[r,c-1] = 1\n",
    "            q.put((r,c-1))\n",
    "        if c+1<w and vis[r,c+1] == 0 and img[r,c+1]!=0:\n",
    "            vis[r,c+1] = 1\n",
    "            q.put((r,c+1))\n",
    "            \n",
    "    return cent_x, cent_y"
   ]
  },
  {
   "cell_type": "code",
   "execution_count": 3,
   "id": "0e0d0a31",
   "metadata": {},
   "outputs": [
    {
     "name": "stdout",
     "output_type": "stream",
     "text": [
      "(240, 320)\n"
     ]
    }
   ],
   "source": [
    "# centroid detection\n",
    "\n",
    "img = cv2.imread('../images/joined_bl/frame4.jpg',0)\n",
    "\n",
    "print(img.shape)\n",
    "\n",
    "# cent = []\n",
    "# vis = np.zeros(img.shape)\n",
    "# h, w= img.shape\n",
    "# for i in range(h):\n",
    "#     for j in range(w):\n",
    "#         if img[i,j]==1 and vis[i,j]==0:\n",
    "#             cent_x, cent_y = centroid_bfs(img,i,j,1,vis)\n",
    "#             cent.append(cent_x,cent_y)\n",
    "            \n",
    "# for i in range(len(cent)):\n",
    "#     print(cent[i][0],cent[i][1])\n",
    "            "
   ]
  },
  {
   "cell_type": "code",
   "execution_count": null,
   "id": "97466cde",
   "metadata": {},
   "outputs": [],
   "source": []
  }
 ],
 "metadata": {
  "kernelspec": {
   "display_name": "Python 3",
   "language": "python",
   "name": "python3"
  },
  "language_info": {
   "codemirror_mode": {
    "name": "ipython",
    "version": 3
   },
   "file_extension": ".py",
   "mimetype": "text/x-python",
   "name": "python",
   "nbconvert_exporter": "python",
   "pygments_lexer": "ipython3",
   "version": "3.6.12"
  }
 },
 "nbformat": 4,
 "nbformat_minor": 5
}
