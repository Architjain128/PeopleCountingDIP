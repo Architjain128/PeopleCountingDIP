{
 "cells": [
  {
   "cell_type": "code",
   "execution_count": 7,
   "id": "cca44cd7",
   "metadata": {},
   "outputs": [],
   "source": [
    "import cv2, collections\n",
    "import numpy as np\n",
    "import matplotlib.pyplot as plt\n",
    "import math\n",
    "from queue import Queue"
   ]
  },
  {
   "cell_type": "code",
   "execution_count": 8,
   "id": "b022bb88",
   "metadata": {},
   "outputs": [],
   "source": [
    "def centroid_bfs(img,r,c,col,vis):\n",
    "    h,w = img.shape\n",
    "    q = Queue()\n",
    "    q.put((r,c))\n",
    "    vis[r,c] = 1\n",
    "    cent_x = 0.0\n",
    "    cent_y = 0.0\n",
    "    cnt = 0\n",
    "    while not q.empty():\n",
    "        r, c = q.get()\n",
    "        cnt += 1\n",
    "        cent_x += r\n",
    "        cent_y += c\n",
    "        if r-1>=0 and vis[r-1,c] == 0 and img[r-1,c]!=0:\n",
    "            vis[r-1,c] = col\n",
    "            q.put((r-1,c))\n",
    "        if r+1<h and vis[r+1,c] == 0 and img[r+1,c]!=0:\n",
    "            vis[r+1,c] = 1\n",
    "            q.put((r+1,c))\n",
    "        if c-1>=0 and vis[r,c-1] == 0 and img[r,c-1]!=0:\n",
    "            vis[r,c-1] = 1\n",
    "            q.put((r,c-1))\n",
    "        if c+1<w and vis[r,c+1] == 0 and img[r,c+1]!=0:\n",
    "            vis[r,c+1] = 1\n",
    "            q.put((r,c+1))\n",
    "            \n",
    "    cent_x = cent_x//cnt\n",
    "    cent_y = cent_y//cnt\n",
    "    return cent_x, cent_y"
   ]
  },
  {
   "cell_type": "code",
   "execution_count": 9,
   "id": "0e0d0a31",
   "metadata": {},
   "outputs": [
    {
     "data": {
      "image/png": "[encoded data removed]",
      "text/plain": [
       "<Figure size 432x288 with 1 Axes>"
      ]
     },
     "metadata": {},
     "output_type": "display_data"
    },
    {
     "name": "stdout",
     "output_type": "stream",
     "text": [
      "68.0 186.0\n",
      "139.0 174.0\n"
     ]
    }
   ],
   "source": [
    "# centroid detection\n",
    "img = cv2.imread('../images/joined_bl/frame4.jpg')\n",
    "img = cv2.cvtColor(img, cv2.COLOR_BGR2GRAY)\n",
    "# taking OSTU's threshold for best results\n",
    "th, thresh1 = cv2.threshold(img, 0, 255, cv2.THRESH_BINARY + cv2.THRESH_OTSU)\n",
    "img = (img > th).astype(np.uint8)\n",
    "\n",
    "plt.imshow(img, cmap='gray')\n",
    "plt.title('image thresholding')\n",
    "plt.xticks([]), plt.yticks([]) \n",
    "plt.show()\n",
    "\n",
    "cent = []\n",
    "vis = np.zeros(img.shape)\n",
    "h, w= img.shape\n",
    "for i in range(h):\n",
    "    for j in range(w):\n",
    "        if img[i,j]==1 and vis[i,j]==0:\n",
    "            cent_x, cent_y = centroid_bfs(img,i,j,1,vis)\n",
    "            cent.append((cent_x,cent_y))\n",
    "            \n",
    "for i in range(len(cent)):\n",
    "    print(cent[i][0],cent[i][1])\n",
    "            "
   ]
  },
  {
   "cell_type": "code",
   "execution_count": null,
   "id": "75786802",
   "metadata": {},
   "outputs": [],
   "source": []
  }
 ],
 "metadata": {
  "kernelspec": {
   "display_name": "Python 3",
   "language": "python",
   "name": "python3"
  },
  "language_info": {
   "codemirror_mode": {
    "name": "ipython",
    "version": 3
   },
   "file_extension": ".py",
   "mimetype": "text/x-python",
   "name": "python",
   "nbconvert_exporter": "python",
   "pygments_lexer": "ipython3",
   "version": "3.6.12"
  }
 },
 "nbformat": 4,
 "nbformat_minor": 5
}
