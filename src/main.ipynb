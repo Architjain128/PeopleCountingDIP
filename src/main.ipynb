{
 "cells": [
  {
   "cell_type": "code",
   "execution_count": 1,
   "metadata": {},
   "outputs": [],
   "source": [
    "import cv2, collections\n",
    "import numpy as np\n",
    "import matplotlib.pyplot as plt\n",
    "import math\n",
    "# import seaborn as sns\n",
    "from queue import Queue"
   ]
  },
  {
   "cell_type": "code",
   "execution_count": 5,
   "metadata": {},
   "outputs": [
    {
     "name": "stdout",
     "output_type": "stream",
     "text": [
      "3.1300528\n",
      "2.7200022\n",
      "4.400181\n",
      "5.3840804\n",
      "8.862828\n",
      "9.022716\n"
     ]
    }
   ],
   "source": [
    "feature_params = dict(maxCorners = 300, qualityLevel = 0.2, minDistance = 2, blockSize = 7)\n",
    "lk_params = dict(winSize = (15,15), maxLevel = 2, criteria = (cv2.TERM_CRITERIA_EPS | cv2.TERM_CRITERIA_COUNT, 10, 0.03))\n",
    "color = (0, 255, 0)\n",
    "first_frame = cv2.imread(\"../images/2016_04_07_07_09_21FrontColor_IN/frames/frame0.jpg\")\n",
    "# first_frame = cv2.imread(\"images/trial1/frame60.jpg\")\n",
    "\n",
    "prev_gray = cv2.cvtColor(first_frame, cv2.COLOR_BGR2GRAY)\n",
    "prev = cv2.goodFeaturesToTrack(prev_gray, mask = None, **feature_params)\n",
    "mask = np.zeros_like(first_frame)\n",
    "\n",
    "T = 7.5          # threshold on the amount of movement recognized\n",
    "K = 5000            # the amount of seeds chosen for bfs\n",
    "\n",
    "# takes position(i,j), visited matrix, motion vector matrix and threshold on vector magnitude\n",
    "def bfs(i, j, vis, mag, t, region):\n",
    "#     print(i,j)\n",
    "    util = [-1, 0, 1]\n",
    "    if mag[i][j] < t or vis[i][j] == True:\n",
    "        return 0\n",
    "    q = collections.deque()\n",
    "    area = 0\n",
    "    vis[i][j] = True\n",
    "    q.append([i,j])\n",
    "    while len(q) > 0:\n",
    "        curX, curY = q.popleft()\n",
    "        region[curX][curY] = 255\n",
    "        area += 1\n",
    "        for a in range(3):\n",
    "            for b in range(3):\n",
    "                x = curX + util[a]\n",
    "                y = curY + util[b]\n",
    "                if x >= 0 and y >= 0 and x < mag.shape[0] and y < mag.shape[1] and vis[x][y] != True:\n",
    "                    vis[x][y] = True  \n",
    "                    if mag[x][y] >= t:\n",
    "                        q.append([x, y])\n",
    "    return area\n",
    "    \n",
    "# plot = plt.figure(figsize=(100,100))\n",
    "\n",
    "for index in range(1,50):\n",
    "    frame = cv2.imread(\"../images/2016_04_07_07_09_21FrontColor_IN/frames/frame\"+ str(index)+\".jpg\")\n",
    "#     frame = cv2.imread(\"images/trial1/frame\"+ str(i)+\".jpg\")\n",
    "    \n",
    "    # plot.add_subplot(10, 2, 2*index-1)\n",
    "    # plt.imshow(prev_gray, cmap='gray')\n",
    "    \n",
    "    gray = cv2.cvtColor(frame, cv2.COLOR_BGR2GRAY)\n",
    "    flow = gray.copy()\n",
    "    prev = cv2.goodFeaturesToTrack(prev_gray, mask = None, **feature_params)\n",
    "\n",
    "    # motion estimation\n",
    "    flow = cv2.calcOpticalFlowFarneback(prev_gray, gray, None, 0.5, 1, 5, 2, 5, 1.1, None)\n",
    "    mag, ang = cv2.cartToPolar(flow[..., 0], flow[..., 1])\n",
    "\n",
    "    # considering only vertical motion\n",
    "    vertical = mag.copy()\n",
    "    for i in range(mag.shape[0]):\n",
    "        for j in range(mag.shape[1]):\n",
    "            vertical[i][j] = mag[i][j] * abs(np.sin(ang[i][j]))\n",
    "\n",
    "    # calculating varying T\n",
    "    ind = 0\n",
    "    temp_array = [0]*(vertical.shape[0]*vertical.shape[1])\n",
    "    for i in range(vertical.shape[0]):\n",
    "        for j in range(vertical.shape[1]):\n",
    "            temp_array[ind] = vertical[i][j]\n",
    "            ind += 1\n",
    "    temp_array = np.array(temp_array)\n",
    "    temp_array = np.sort(temp_array)[::-1]\n",
    "    # top 5%\n",
    "    percent = (2*mag.shape[0]*mag.shape[1])/100\n",
    "    percent = int(percent)\n",
    "    print(temp_array[percent-1])\n",
    "    # ax = sns.heatmap(mag)\n",
    "    # plt.show()\n",
    "    T = temp_array[percent-1]\n",
    "    if T < 1:\n",
    "        T = 1\n",
    "    # Calculating feature value M\n",
    "    dy, dx = np.gradient(gray)\n",
    "    Ixx = dx**2\n",
    "    Iyy = dy**2\n",
    "    Ixy = dx*dy\n",
    "    R_score = np.array(gray.copy(),dtype=np.float64)\n",
    "    for i in range(gray.shape[0]):\n",
    "        for j in range(gray.shape[1]):\n",
    "            sum_Ix = 0\n",
    "            sum_Iy = 0\n",
    "            sum_Ixy = 0\n",
    "            for k in range(-2,3):\n",
    "                for l in range(-2,3):\n",
    "                    if i+k >= 0 and j+l >= 0 and i+k < gray.shape[0] and j+l < gray.shape[1]:\n",
    "                        sum_Ix += Ixx[i+k][j+l]\n",
    "                        sum_Iy += Iyy[i+k][j+l]\n",
    "                        sum_Ixy += Ixy[i+k][j+l]\n",
    "                    else:\n",
    "                        sum_Ix += 0\n",
    "                        sum_Iy += 0\n",
    "                        sum_Ixy += 0\n",
    "            det = sum_Ix*sum_Iy - sum_Ixy*sum_Ixy\n",
    "            trace = sum_Ixy + sum_Ixy\n",
    "            r = det - 0.05*(trace**2)\n",
    "            R_score[i][j] = r \n",
    "    min_val = np.min(R_score)\n",
    "    R_score += (-1)*min_val\n",
    "    max_val = np.max(R_score)\n",
    "    R_score = (R_score/max_val)*255\n",
    "    R_score = R_score.astype(int)\n",
    "    \n",
    "#     print(np.max(ang), np.min(ang), \"angles\")\n",
    "    # ax = sns.heatmap(R_score)\n",
    "    # plt.show()\n",
    "    listOfFeatures = []\n",
    "    listTemp = []\n",
    "    for x in range(frame.shape[0]):\n",
    "        for y in range(frame.shape[1]):\n",
    "            listTemp.append([R_score[x][y], x, y])\n",
    "    listTemp.sort()\n",
    "    listTemp.reverse()\n",
    "#     print(listTemp[0],listTemp[-1])\n",
    "    for x in range(len(listTemp)):\n",
    "        listOfFeatures.append(listTemp[x])\n",
    "    \n",
    "    # break\n",
    "    region = np.zeros((frame.shape[0], frame.shape[1]), dtype=int)\n",
    "    vis = [[False for x in range(frame.shape[1])] for y in range(frame.shape[0])]\n",
    "    for point in listOfFeatures:\n",
    "        area = bfs(point[1], point[2], vis, vertical, T, region)\n",
    "#         print(np.max(region), np.min(region))\n",
    "        # do something with the area if we want to\n",
    "    # plot.add_subplot(10, 2, 2*index)\n",
    "    # plt.imshow(region, cmap='gray')\n",
    "#     plt.show()\n",
    "    \n",
    "#     break\n",
    "    prev_gray = gray.copy()\n",
    "#     prev = good_new.reshape(-1, 1, 2)\n",
    "    mask = np.zeros_like(frame)\n",
    "    plt.imsave('../images/2016_04_07_07_09_21FrontColor_IN/motion_vect_try1/frame'+ str(index)+'.jpg',region)"
   ]
  },
  {
   "cell_type": "code",
   "execution_count": 6,
   "metadata": {},
   "outputs": [],
   "source": [
    "def new_bfs(img,r,c,col,vis):\n",
    "    h,w = img.shape\n",
    "    q = Queue()\n",
    "    q.put((r,c))\n",
    "    vis[r,c] = 1\n",
    "    cnt = 0\n",
    "    while not q.empty():\n",
    "        cnt += 1\n",
    "        r, c = q.get()\n",
    "        if r-1>=0 and vis[r-1,c] == 0 and img[r-1,c]!=0:\n",
    "            vis[r-1,c] = col\n",
    "            q.put((r-1,c))\n",
    "        if r+1<h and vis[r+1,c] == 0 and img[r+1,c]!=0:\n",
    "            vis[r+1,c] = 1\n",
    "            q.put((r+1,c))\n",
    "        if c-1>=0 and vis[r,c-1] == 0 and img[r,c-1]!=0:\n",
    "            vis[r,c-1] = 1\n",
    "            q.put((r,c-1))\n",
    "        if c+1<w and vis[r,c+1] == 0 and img[r,c+1]!=0:\n",
    "            vis[r,c+1] = 1\n",
    "            q.put((r,c+1))\n",
    "            \n",
    "    return cnt"
   ]
  },
  {
   "cell_type": "code",
   "execution_count": 37,
   "metadata": {},
   "outputs": [],
   "source": [
    "def component_labelling(img_path):\n",
    "    img = cv2.imread(img_path)\n",
    "    img = cv2.cvtColor(img, cv2.COLOR_BGR2GRAY)\n",
    "\n",
    "#     plt.imshow(img, cmap='gray')\n",
    "#     plt.title('original image')\n",
    "#     plt.xticks([]), plt.yticks([]) \n",
    "#     plt.show()\n",
    "\n",
    "    # taking OSTU's threshold for best results\n",
    "    th, thresh1 = cv2.threshold(img, 0, 255, cv2.THRESH_BINARY + cv2.THRESH_OTSU)\n",
    "\n",
    "    img = (img > th).astype(np.uint8)\n",
    "#     plt.imshow(img, cmap='gray')\n",
    "#     plt.title('image thresholding')\n",
    "#     plt.xticks([]), plt.yticks([]) \n",
    "#     plt.show()\n",
    "\n",
    "    img = cv2.dilate(img, cv2.getStructuringElement(cv2.MORPH_RECT, (3, 3)), iterations = 3)\n",
    "#     plt.imshow(img, cmap='gray')\n",
    "#     plt.title('dilation')\n",
    "#     plt.xticks([]), plt.yticks([]) \n",
    "#     plt.show()\n",
    "    \n",
    "    vis = np.zeros(img.shape)\n",
    "    h,w = img.shape\n",
    "    arr = []\n",
    "    sum = 0\n",
    "    for i in range(h):\n",
    "        for j in range(w):\n",
    "            if vis[i,j]==0 and img[i,j]==1:\n",
    "                cnt = new_bfs(img,i,j,1,vis)\n",
    "                sum += cnt\n",
    "                arr.append((i,j,cnt))\n",
    "\n",
    "    \n",
    "    # this k will determine if, the connected component will be considered background or not?\n",
    "    k = 7000 #by looking at the values of connected component, this seemed to be a resonable number    \n",
    "        \n",
    "    fin_arr = []\n",
    "    for i in range(len(arr)):\n",
    "        if arr[i][2] >= k:\n",
    "            fin_arr.append((arr[i][0],arr[i][1]))\n",
    "\n",
    "    vis = np.zeros(img.shape)\n",
    "    c = 1\n",
    "    for i in range(len(fin_arr)):\n",
    "        cnt = new_bfs(img,fin_arr[i][0],fin_arr[i][1],c,vis)\n",
    "        c += 1\n",
    "\n",
    "#     print('number of regions of interest are: ',len(fin_arr))\n",
    "    \n",
    "    # COLORING     \n",
    "    COLORS = [(255,0,255), (0,255,255), (255, 0, 0), (0, 255, 0), (0,0,255), (255,255,0)]\n",
    "    final_img = np.zeros((h, w,3), int)\n",
    "#   done for one centroid only as of now  \n",
    "    cnt = 0\n",
    "    cent_x = 0.0\n",
    "    cent_y = 0.0\n",
    "    for i in range(h):\n",
    "        for j in range(w):\n",
    "            if vis[i,j] != 0:\n",
    "                col = math.floor(vis[i,j]%6)   #we have 6 colors in above array\n",
    "                final_img[i,j,0] = COLORS[col][0] \n",
    "                final_img[i,j,1] = COLORS[col][1] \n",
    "                final_img[i,j,2] = COLORS[col][2] \n",
    "                \n",
    "                cent_x += i\n",
    "                cent_y += j\n",
    "                cnt += 1\n",
    "                \n",
    "    cent_x = cent_x//cnt\n",
    "    cent_y = cent_y//cnt\n",
    "    \n",
    "    print('Centroid of the image is at: ',cent_x, cent_y)\n",
    "                \n",
    "    plt.imshow(final_img)\n",
    "    plt.title('region of interset: colored')\n",
    "    plt.xticks([]), plt.yticks([]) \n",
    "    plt.show()"
   ]
  },
  {
   "cell_type": "code",
   "execution_count": 38,
   "metadata": {},
   "outputs": [
    {
     "name": "stdout",
     "output_type": "stream",
     "text": [
      "Centroid of the image is at:  53.0 159.0\n"
     ]
    },
    {
     "data": {
      "image/png": "[encoded data removed]",
      "text/plain": [
       "<Figure size 432x288 with 1 Axes>"
      ]
     },
     "metadata": {},
     "output_type": "display_data"
    },
    {
     "name": "stdout",
     "output_type": "stream",
     "text": [
      "Centroid of the image is at:  65.0 121.0\n"
     ]
    },
    {
     "data": {
      "image/png": "[encoded data removed]",
      "text/plain": [
       "<Figure size 432x288 with 1 Axes>"
      ]
     },
     "metadata": {},
     "output_type": "display_data"
    },
    {
     "name": "stdout",
     "output_type": "stream",
     "text": [
      "Centroid of the image is at:  51.0 167.0\n"
     ]
    },
    {
     "data": {
      "image/png": "[encoded data removed]",
      "text/plain": [
       "<Figure size 432x288 with 1 Axes>"
      ]
     },
     "metadata": {},
     "output_type": "display_data"
    },
    {
     "name": "stdout",
     "output_type": "stream",
     "text": [
      "Centroid of the image is at:  102.0 134.0\n"
     ]
    },
    {
     "data": {
      "image/png": "[encoded data removed]",
      "text/plain": [
       "<Figure size 432x288 with 1 Axes>"
      ]
     },
     "metadata": {},
     "output_type": "display_data"
    },
    {
     "name": "stdout",
     "output_type": "stream",
     "text": [
      "Centroid of the image is at:  82.0 130.0\n"
     ]
    },
    {
     "data": {
      "image/png": "[encoded data removed]",
      "text/plain": [
       "<Figure size 432x288 with 1 Axes>"
      ]
     },
     "metadata": {},
     "output_type": "display_data"
    },
    {
     "name": "stdout",
     "output_type": "stream",
     "text": [
      "Centroid of the image is at:  84.0 119.0\n"
     ]
    },
    {
     "data": {
      "image/png": "[encoded data removed]",
      "text/plain": [
       "<Figure size 432x288 with 1 Axes>"
      ]
     },
     "metadata": {},
     "output_type": "display_data"
    },
    {
     "name": "stdout",
     "output_type": "stream",
     "text": [
      "Centroid of the image is at:  118.0 148.0\n"
     ]
    },
    {
     "data": {
      "image/png": "[encoded data removed]",
      "text/plain": [
       "<Figure size 432x288 with 1 Axes>"
      ]
     },
     "metadata": {},
     "output_type": "display_data"
    },
    {
     "name": "stdout",
     "output_type": "stream",
     "text": [
      "Centroid of the image is at:  120.0 163.0\n"
     ]
    },
    {
     "data": {
      "image/png": "[encoded data removed]",
      "text/plain": [
       "<Figure size 432x288 with 1 Axes>"
      ]
     },
     "metadata": {},
     "output_type": "display_data"
    },
    {
     "name": "stdout",
     "output_type": "stream",
     "text": [
      "Centroid of the image is at:  123.0 136.0\n"
     ]
    },
    {
     "data": {
      "image/png": "[encoded data removed]",
      "text/plain": [
       "<Figure size 432x288 with 1 Axes>"
      ]
     },
     "metadata": {},
     "output_type": "display_data"
    }
   ],
   "source": [
    "# working on output frames\n",
    "c = 0\n",
    "while c<9:\n",
    "    img_path = \"../output_trial/frame\"+ str(c)+\".jpg\"\n",
    "    component_labelling(img_path)\n",
    "    c+=1"
   ]
  },
  {
   "cell_type": "code",
   "execution_count": null,
   "metadata": {},
   "outputs": [],
   "source": []
  }
 ],
 "metadata": {
  "interpreter": {
   "hash": "916dbcbb3f70747c44a77c7bcd40155683ae19c65e1c03b4aa3499c5328201f1"
  },
  "kernelspec": {
   "display_name": "Python 3 (ipykernel)",
   "language": "python",
   "name": "python3"
  },
  "language_info": {
   "codemirror_mode": {
    "name": "ipython",
    "version": 3
   },
   "file_extension": ".py",
   "mimetype": "text/x-python",
   "name": "python",
   "nbconvert_exporter": "python",
   "pygments_lexer": "ipython3",
   "version": "3.8.5"
  }
 },
 "nbformat": 4,
 "nbformat_minor": 2
}
